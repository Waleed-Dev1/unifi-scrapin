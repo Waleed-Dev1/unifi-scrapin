{
 "cells": [
  {
   "cell_type": "code",
   "execution_count": 1,
   "id": "2c2d3a58",
   "metadata": {},
   "outputs": [],
   "source": [
    "# !pip install PyPDF2\n",
    "# !python --version"
   ]
  },
  {
   "cell_type": "code",
   "execution_count": null,
   "id": "4f460f00",
   "metadata": {},
   "outputs": [],
   "source": [
    "import PyPDF2\n",
    "import re \n",
    "import json\n",
    "\n"
   ]
  },
  {
   "cell_type": "code",
   "execution_count": 77,
   "id": "10385cb7",
   "metadata": {},
   "outputs": [],
   "source": [
    "def extract_text_from_pdf(pdf_path):\n",
    "    with open(f\"./unify-pdf/{pdf_path}\", 'rb') as file:\n",
    "        reader = PyPDF2.PdfReader(file)\n",
    "        text = \"\"\n",
    "        for page in reader.pages:\n",
    "            text += page.extract_text()\n",
    "\n",
    "    parts = text.split(\"? \")\n",
    "    qa_list = []\n",
    "\n",
    "    for i in range(len(parts) - 1):  # Skip the last part if it's incomplete\n",
    "        question = parts[i].strip() + \"?\"  # Add the ? back\n",
    "        question_candidate = parts[i].strip()\n",
    "        \n",
    "\n",
    "        # Regex to find all number-based \". \" patterns like \"1. \", \"23. \", etc.\n",
    "        matches = list(re.finditer(r\"\\b\\d+\\. \", question_candidate))\n",
    "        \n",
    "        if matches:\n",
    "            last_match = matches[-1]\n",
    "            split_index = last_match.start()\n",
    "            question = question_candidate[split_index:].strip()\n",
    "        else:\n",
    "            question = question_candidate.strip()\n",
    "\n",
    "\n",
    "        answer_candidate = parts[i + 1].strip()\n",
    "        split_index = answer_candidate.rfind(\". \")\n",
    "        if split_index != -1:\n",
    "            answer = answer_candidate[:split_index - 2].strip()\n",
    "        else:\n",
    "            answer = answer_candidate\n",
    "\n",
    "        qa_list.append({\n",
    "            \"question\": question+ \"?\",\n",
    "            \"answer\": answer\n",
    "        })\n",
    "\n",
    "\n",
    "    # ✅ Save to JSON file\n",
    "    with open(f\"{pdf_path}.json\", \"w\", encoding=\"utf-8\") as f:\n",
    "        json.dump(qa_list, f, indent=4, ensure_ascii=False)\n",
    "\n",
    "    print(\"✅ FAQ data saved to faq_output.json\")"
   ]
  },
  {
   "cell_type": "code",
   "execution_count": 91,
   "id": "a4abd386",
   "metadata": {},
   "outputs": [
    {
     "name": "stdout",
     "output_type": "stream",
     "text": [
      "✅ FAQ data saved to faq_output.json\n",
      "None\n"
     ]
    }
   ],
   "source": [
    "# Example usage\n",
    "pdf_path = 'General-FAQ-unifi-Home-Plan-updated-August-2023.pdf'  # Replace with your PDF file path\n",
    "# pdf_path = '(PACK VERSION) CLEAN FAQ Unifi TV Content Update 1October2023 V3.pdf'  # Replace with your PDF file path\n",
    "# pdf_path = '(OTT VERSION) CLEAN FAQ Unifi TV Content Update 15January2024.pdf'  # Replace with your PDF file path\n",
    "text = extract_text_from_pdf(pdf_path)\n",
    "print(text)"
   ]
  },
  {
   "cell_type": "code",
   "execution_count": null,
   "id": "b3651383",
   "metadata": {},
   "outputs": [],
   "source": []
  }
 ],
 "metadata": {
  "kernelspec": {
   "display_name": "Python 3",
   "language": "python",
   "name": "python3"
  },
  "language_info": {
   "codemirror_mode": {
    "name": "ipython",
    "version": 3
   },
   "file_extension": ".py",
   "mimetype": "text/x-python",
   "name": "python",
   "nbconvert_exporter": "python",
   "pygments_lexer": "ipython3",
   "version": "3.11.9"
  }
 },
 "nbformat": 4,
 "nbformat_minor": 5
}
