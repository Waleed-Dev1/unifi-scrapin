{
 "cells": [
  {
   "cell_type": "code",
   "execution_count": 1,
   "metadata": {},
   "outputs": [],
   "source": [
    "from selenium import webdriver\n",
    "from selenium.webdriver.chrome.options import Options\n",
    "from selenium.webdriver.common.by import By\n",
    "from selenium.webdriver.support.ui import WebDriverWait\n",
    "from selenium.webdriver.support import expected_conditions as EC\n",
    "from selenium.common.exceptions import TimeoutException, NoSuchElementException\n",
    "import logging\n",
    "import urllib.parse\n",
    "from concurrent.futures import ThreadPoolExecutor, as_completed\n",
    "\n",
    "import time\n",
    "\n",
    "# Set up logging\n",
    "logging.basicConfig(level=logging.INFO, format='%(asctime)s - %(levelname)s - %(message)s')\n",
    "logger = logging.getLogger(__name__)\n",
    "\n",
    "\n",
    "def setup_driver():\n",
    "    \"\"\"Set up and return a configured Chrome WebDriver.\"\"\"\n",
    "    chrome_options = Options()\n",
    "    chrome_options.add_argument(\"--headless\")  # Run in headless mode (no UI)\n",
    "    chrome_options.add_argument(\"--disable-gpu\")\n",
    "    chrome_options.add_argument(\"--window-size=1920,1080\")\n",
    "    chrome_options.add_argument(\"--disable-notifications\")\n",
    "    # chrome_options.add_argument('--proxy-server=http://157.230.149.107:1040')  # Public proxy\n",
    "\n",
    "\n",
    "    # Initialize the Chrome driver\n",
    "    driver = webdriver.Chrome(options=chrome_options)\n",
    "    return driver\n"
   ]
  },
  {
   "cell_type": "code",
   "execution_count": null,
   "metadata": {},
   "outputs": [],
   "source": []
  },
  {
   "cell_type": "code",
   "execution_count": 2,
   "metadata": {},
   "outputs": [],
   "source": [
    "import csv\n",
    "import threading\n",
    "import os\n",
    "import time\n",
    "import random\n",
    "from selenium.webdriver.common.by import By\n",
    "\n",
    "output_file = \"BizUnifi-promos.csv\"\n",
    "csv_lock = threading.Lock()  # Lock for thread-safe writing\n",
    "\n",
    "def write_headers():\n",
    "    if not os.path.exists(output_file):  # Check if file exists\n",
    "        with open(output_file, \"w\", newline=\"\", encoding=\"utf-8\") as f:\n",
    "            writer = csv.DictWriter(f, fieldnames=[\n",
    "                \"image\", \"title\", \"description\", \"date\",\"detail\"\n",
    "            ])\n",
    "            writer.writeheader()\n",
    "\n",
    "# Call write_headers once to ensure headers are written if the file doesn't exist\n",
    "write_headers()\n"
   ]
  },
  {
   "cell_type": "code",
   "execution_count": 3,
   "metadata": {},
   "outputs": [],
   "source": [
    "def extract_promotions(url, index):\n",
    "    \"\"\"Extract promotions from the provided URL and return them.\"\"\"\n",
    "    logger.info(f\"Start Extraction of Promotions from {url} (Index: {index})\")\n",
    "\n",
    "    item = setup_driver()\n",
    "    item.get(url)\n",
    "    time.sleep(5)\n",
    "    try:\n",
    "        print(\"extract_promotions1\")\n",
    "        # Use WebDriverWait to wait until the container for promotions is visible\n",
    "        WebDriverWait(item, 180).until(\n",
    "            EC.visibility_of_element_located((By.CLASS_NAME, \"rounded-t-3xl\"))\n",
    "        )\n",
    "        print(\"extract_promotions2\")\n",
    "        # Locate the promotion container on the page\n",
    "        wrapper = item.find_element(By.CLASS_NAME, \"rounded-t-3xl\")\n",
    "        detail = wrapper.text\n",
    "        return detail        \n",
    "\n",
    "    except Exception as e:\n",
    "        logger.error(f\"Error extracting promotion data from {url}: {e}\")\n",
    "        return \"\""
   ]
  },
  {
   "cell_type": "code",
   "execution_count": null,
   "metadata": {},
   "outputs": [],
   "source": []
  },
  {
   "cell_type": "code",
   "execution_count": null,
   "metadata": {},
   "outputs": [],
   "source": []
  },
  {
   "cell_type": "code",
   "execution_count": 4,
   "metadata": {},
   "outputs": [],
   "source": [
    "def store_data(row, index,href):\n",
    "    logger.info(f\"Start Extraction of  {index} form Web\")\n",
    "    try:\n",
    "        detail = extract_promotions(href,index)\n",
    "        row['detail']=detail\n",
    "    except Exception as e:\n",
    "        print(f\"[{index + 1}] Failed to Extract Detail: {e}\")\n",
    "        \n",
    "    try:\n",
    "        \n",
    "        with csv_lock:\n",
    "            with open(output_file, \"a\", newline=\"\", encoding=\"utf-8\") as f:\n",
    "                writer = csv.DictWriter(f, fieldnames=row.keys())\n",
    "                writer.writerow(row)\n",
    "                \n",
    "        logger.info(f\"Extraction Complete of News {index} form Web\")\n",
    "        return row\n",
    "\n",
    "    except Exception as e:\n",
    "        print(f\"[{index + 1}] Failed to insert info: {e}\")"
   ]
  },
  {
   "cell_type": "code",
   "execution_count": null,
   "metadata": {},
   "outputs": [],
   "source": []
  },
  {
   "cell_type": "code",
   "execution_count": 19,
   "metadata": {},
   "outputs": [
    {
     "name": "stderr",
     "output_type": "stream",
     "text": [
      "2025-05-02 16:49:51,387 - INFO - Found 10 elements to scrape\n"
     ]
    },
    {
     "name": "stdout",
     "output_type": "stream",
     "text": [
      "Found--------------------------- 10 elements.\n",
      "Found 10 elements.\n"
     ]
    }
   ],
   "source": [
    "driver = setup_driver()\n",
    "\n",
    "# Set a longer page load timeout\n",
    "driver.set_page_load_timeout(180)\n",
    "driver.set_script_timeout(180) \n",
    "\n",
    "elements = []  # Initialize elements to an empty list\n",
    "\n",
    "try:\n",
    "    driver.get(\"https://biz.unifi.com.my/promotions\")\n",
    "    time.sleep(15)  # Wait for the page to load completely\n",
    "\n",
    "    elements = driver.find_elements(By.XPATH, \"//div[contains(@class, 'md:max-w-[540px]')]\")\n",
    "\n",
    "    if not elements:  # Check if the list is empty\n",
    "        print(\"No elements found using the provided XPath.\")\n",
    "    else:\n",
    "        print(f\"Found--------------------------- {len(elements)} elements.\")\n",
    "    element_count = len(elements)\n",
    "    logger.info(f\"Found {element_count} elements to scrape\")\n",
    "    driver.save_screenshot(\"hello.png\")  # Save screenshot with a unique name\n",
    "\n",
    "except Exception as e:\n",
    "    logger.error(f\"An error occurred during scraping: {str(e)}\", exc_info=True)\n",
    "\n",
    "element_count = len(elements)\n",
    "print(f\"Found {element_count} elements.\")\n",
    "\n",
    "\n"
   ]
  },
  {
   "cell_type": "code",
   "execution_count": 23,
   "metadata": {},
   "outputs": [],
   "source": [
    "# Title\n",
    "try:\n",
    "    title = elements[0].find_element(By.XPATH, \".//div[contains(@class, 'p-6')]//h4\").text\n",
    "except Exception:\n",
    "    title = \"\""
   ]
  },
  {
   "cell_type": "code",
   "execution_count": 24,
   "metadata": {},
   "outputs": [
    {
     "data": {
      "text/plain": [
       "'Ultra-Fast Internet For Your Business!'"
      ]
     },
     "execution_count": 24,
     "metadata": {},
     "output_type": "execute_result"
    }
   ],
   "source": [
    "# elements[0].get_attribute(\"outerHTML\")\n",
    "\n",
    "title"
   ]
  },
  {
   "cell_type": "code",
   "execution_count": 26,
   "metadata": {},
   "outputs": [
    {
     "name": "stderr",
     "output_type": "stream",
     "text": [
      "2025-05-02 16:59:28,240 - INFO - Start Extraction of  1 form Web\n",
      "2025-05-02 16:59:28,243 - INFO - Start Extraction of Promotions from https://biz.unifi.com.my/mobilebiz (Index: 1)\n",
      "2025-05-02 16:59:28,367 - INFO - Start Extraction of  2 form Web\n",
      "2025-05-02 16:59:28,375 - INFO - Start Extraction of Promotions from https://biz.unifi.com.my/mobilebiz (Index: 2)\n",
      "2025-05-02 16:59:28,485 - INFO - Start Extraction of  3 form Web\n",
      "2025-05-02 16:59:28,494 - INFO - Start Extraction of Promotions from https://biz.unifi.com.my/bizdeal (Index: 3)\n",
      "2025-05-02 16:59:28,659 - INFO - Start Extraction of  4 form Web\n",
      "2025-05-02 16:59:28,681 - INFO - Start Extraction of Promotions from https://biz.unifi.com.my/mobilebiz (Index: 4)\n"
     ]
    },
    {
     "name": "stdout",
     "output_type": "stream",
     "text": [
      "extract_promotions1\n",
      "extract_promotions1\n",
      "extract_promotions2\n"
     ]
    },
    {
     "name": "stderr",
     "output_type": "stream",
     "text": [
      "2025-05-02 16:59:48,344 - INFO - Extraction Complete of News 1 form Web\n",
      "2025-05-02 16:59:48,346 - INFO - Start Extraction of  5 form Web\n",
      "2025-05-02 16:59:48,352 - INFO - Start Extraction of Promotions from https://biz.unifi.com.my/products/mobile-postpaid (Index: 5)\n",
      "2025-05-02 16:59:48,347 - INFO - Successfully scraped store at index 1\n"
     ]
    },
    {
     "name": "stdout",
     "output_type": "stream",
     "text": [
      "extract_promotions2\n"
     ]
    },
    {
     "name": "stderr",
     "output_type": "stream",
     "text": [
      "2025-05-02 16:59:49,295 - INFO - Extraction Complete of News 3 form Web\n",
      "2025-05-02 16:59:49,299 - INFO - Start Extraction of  6 form Web\n",
      "2025-05-02 16:59:49,302 - INFO - Start Extraction of Promotions from https://biz.unifi.com.my/products/mobile-postpaid (Index: 6)\n",
      "2025-05-02 16:59:49,309 - INFO - Successfully scraped store at index 3\n"
     ]
    },
    {
     "name": "stdout",
     "output_type": "stream",
     "text": [
      "extract_promotions1\n",
      "extract_promotions2\n",
      "extract_promotions1\n",
      "extract_promotions2\n"
     ]
    },
    {
     "name": "stderr",
     "output_type": "stream",
     "text": [
      "2025-05-02 17:00:16,256 - INFO - Extraction Complete of News 6 form Web\n",
      "2025-05-02 17:00:16,259 - INFO - Start Extraction of  7 form Web\n",
      "2025-05-02 17:00:16,260 - INFO - Start Extraction of Promotions from https://biz.unifi.com.my/products/mobile-postpaid (Index: 7)\n",
      "2025-05-02 17:00:16,261 - INFO - Successfully scraped store at index 6\n",
      "2025-05-02 17:00:17,108 - INFO - Extraction Complete of News 5 form Web\n",
      "2025-05-02 17:00:17,111 - INFO - Start Extraction of  8 form Web\n",
      "2025-05-02 17:00:17,114 - INFO - Start Extraction of Promotions from https://forms.office.com/pages/responsepage.aspx?id=QMBG3t3170iQp7BswXlQ8cOJUOGltOtBrU87HrW5eapURVU3OEJBQ0gxOEVKVVhGWTlNSlI3RVpDNC4u (Index: 8)\n",
      "2025-05-02 17:00:17,113 - INFO - Successfully scraped store at index 5\n"
     ]
    },
    {
     "name": "stdout",
     "output_type": "stream",
     "text": [
      "extract_promotions1\n",
      "extract_promotions1\n",
      "extract_promotions2\n"
     ]
    },
    {
     "name": "stderr",
     "output_type": "stream",
     "text": [
      "2025-05-02 17:00:36,304 - INFO - Extraction Complete of News 7 form Web\n",
      "2025-05-02 17:00:36,307 - INFO - Start Extraction of  9 form Web\n",
      "2025-05-02 17:00:36,308 - INFO - Successfully scraped store at index 7\n",
      "2025-05-02 17:00:36,310 - INFO - Start Extraction of Promotions from https://biz.unifi.com.my/promotions/go-niaga (Index: 9)\n"
     ]
    },
    {
     "name": "stdout",
     "output_type": "stream",
     "text": [
      "extract_promotions1\n",
      "extract_promotions2\n"
     ]
    },
    {
     "name": "stderr",
     "output_type": "stream",
     "text": [
      "2025-05-02 17:00:45,952 - INFO - Extraction Complete of News 4 form Web\n",
      "2025-05-02 17:00:45,956 - INFO - Successfully scraped store at index 4\n"
     ]
    },
    {
     "name": "stdout",
     "output_type": "stream",
     "text": [
      "extract_promotions1\n",
      "extract_promotions2\n"
     ]
    },
    {
     "name": "stderr",
     "output_type": "stream",
     "text": [
      "2025-05-02 17:00:52,211 - INFO - Extraction Complete of News 9 form Web\n",
      "2025-05-02 17:00:52,221 - INFO - Successfully scraped store at index 9\n"
     ]
    },
    {
     "name": "stdout",
     "output_type": "stream",
     "text": [
      "extract_promotions1\n",
      "extract_promotions2\n"
     ]
    },
    {
     "name": "stderr",
     "output_type": "stream",
     "text": [
      "2025-05-02 17:01:54,745 - INFO - Extraction Complete of News 2 form Web\n",
      "2025-05-02 17:01:54,749 - INFO - Successfully scraped store at index 2\n",
      "2025-05-02 17:03:29,980 - ERROR - Error extracting promotion data from https://forms.office.com/pages/responsepage.aspx?id=QMBG3t3170iQp7BswXlQ8cOJUOGltOtBrU87HrW5eapURVU3OEJBQ0gxOEVKVVhGWTlNSlI3RVpDNC4u: Message: \n",
      "Stacktrace:\n",
      "\tGetHandleVerifier [0x00007FF69411EFA5+77893]\n",
      "\tGetHandleVerifier [0x00007FF69411F000+77984]\n",
      "\t(No symbol) [0x00007FF693EE91BA]\n",
      "\t(No symbol) [0x00007FF693F3F16D]\n",
      "\t(No symbol) [0x00007FF693F3F41C]\n",
      "\t(No symbol) [0x00007FF693F92237]\n",
      "\t(No symbol) [0x00007FF693F6716F]\n",
      "\t(No symbol) [0x00007FF693F8F07F]\n",
      "\t(No symbol) [0x00007FF693F66F03]\n",
      "\t(No symbol) [0x00007FF693F30328]\n",
      "\t(No symbol) [0x00007FF693F31093]\n",
      "\tGetHandleVerifier [0x00007FF6943D7B6D+2931725]\n",
      "\tGetHandleVerifier [0x00007FF6943D2132+2908626]\n",
      "\tGetHandleVerifier [0x00007FF6943F00F3+3031443]\n",
      "\tGetHandleVerifier [0x00007FF6941391EA+184970]\n",
      "\tGetHandleVerifier [0x00007FF69414086F+215311]\n",
      "\tGetHandleVerifier [0x00007FF694126EC4+110436]\n",
      "\tGetHandleVerifier [0x00007FF694127072+110866]\n",
      "\tGetHandleVerifier [0x00007FF69410D479+5401]\n",
      "\tBaseThreadInitThunk [0x00007FFA14B0E8D7+23]\n",
      "\tRtlUserThreadStart [0x00007FFA166F14FC+44]\n",
      "\n",
      "2025-05-02 17:03:29,981 - INFO - Extraction Complete of News 8 form Web\n",
      "2025-05-02 17:03:29,982 - INFO - Successfully scraped store at index 8\n"
     ]
    }
   ],
   "source": [
    "element_count = len(elements)\n",
    "\n",
    "\n",
    "links = driver.find_elements(\n",
    "                        By.XPATH,\n",
    "                        \"//a[contains(@class, 'overflow-hidden') and contains(@class, 'inline-flex') and contains(@class, 'text-tm-cobalt-blue-600')]\"\n",
    "                    )   \n",
    "\n",
    "\n",
    "if element_count > 0:  # Ensure element_count is greater than 0\n",
    "    with ThreadPoolExecutor(max_workers=min(4, element_count)) as executor:\n",
    "        futures_to_indices = {}\n",
    "        \n",
    "        for index, element in enumerate(elements):\n",
    "            try:\n",
    "                if index > 0:  # Or adjust your index condition if needed\n",
    "                    # Image\n",
    "                    try:\n",
    "                        img = element.find_element(By.XPATH, \".//div[contains(@class, 'card_image')]//img\").get_attribute(\"src\")\n",
    "                    except Exception:\n",
    "                        img = \"\"\n",
    "\n",
    "                    # Title\n",
    "                    try:\n",
    "                        title = element.find_element(By.XPATH, \".//div[contains(@class, 'p-6')]//h4\").text\n",
    "                    except Exception:\n",
    "                        title = \"\"\n",
    "\n",
    "                    # Description\n",
    "                    try:\n",
    "                        description = element.find_element(By.XPATH, \".//div[contains(@class, 'p-6')]//p\").text\n",
    "                    except Exception:\n",
    "                        description = \"\"\n",
    "\n",
    "                    # Date (Note: no date in your provided HTML. I'll leave it blank)\n",
    "                    date = \"\"\n",
    "\n",
    "                    # Link (href)\n",
    "                    try:\n",
    "                        href = links[index].get_attribute(\"href\")                  \n",
    "                    except Exception:\n",
    "                        href = \"\"\n",
    "\n",
    "                    row = {\n",
    "                        \"image\": img,\n",
    "                        \"title\": title,\n",
    "                        \"description\": description,\n",
    "                        \"date\": date\n",
    "                    }\n",
    "\n",
    "                    future = executor.submit(store_data, row, index, href)\n",
    "                    futures_to_indices[future] = index\n",
    "            except Exception as e:\n",
    "                print(f\"[{index + 1}] Failed to extract info: {e}\")\n",
    "\n",
    "        for future in as_completed(futures_to_indices):\n",
    "            index = futures_to_indices[future]\n",
    "            try:\n",
    "                result = future.result()\n",
    "                logger.info(f\"Successfully scraped store at index {index}\")\n",
    "            except Exception as e:\n",
    "                logger.error(f\"Error scraping store at index {index}: {e}\", exc_info=True)\n",
    "else:\n",
    "    logger.warning(\"No elements found to process.\")\n"
   ]
  },
  {
   "cell_type": "code",
   "execution_count": 7,
   "metadata": {},
   "outputs": [
    {
     "data": {
      "text/plain": [
       "'<div class=\"md:max-w-[540px]\"><div class=\"inline-flex items-center rounded-lg px-2.5 py-0.5 font-semibold transition-colors select-none from-tm-accent-orange-500 to-tm-cobalt-blue-600 text-white bg-gradient-to-r relative z-20 mb-2 ml-4 text-sm\">Sign Up Now!</div><div class=\"w-[380px] max-w-full  rounded-2xl xl:w-[380px] 2xl:w-[560px]\" style=\"box-shadow:0 1px 2px 0 rgb(0 0 0 / 0.1)\"><div class=\"card_image relative -mt-6 h-56 w-full\"><img alt=\"Promotion 9\" loading=\"eager\" width=\"800\" height=\"450\" decoding=\"async\" data-nimg=\"1\" class=\"h-56 w-full justify-center object-contain\" style=\"color:transparent\" srcset=\"/_next/image?url=%2Fimages%2Fpromotions%2Fbusinessfiesta%2FUltra_Campaign_V2_Web-Banners-ENG-trapezoid_1_optimized_850.png&amp;w=828&amp;q=75 1x, /_next/image?url=%2Fimages%2Fpromotions%2Fbusinessfiesta%2FUltra_Campaign_V2_Web-Banners-ENG-trapezoid_1_optimized_850.png&amp;w=1920&amp;q=75 2x\" src=\"/_next/image?url=%2Fimages%2Fpromotions%2Fbusinessfiesta%2FUltra_Campaign_V2_Web-Banners-ENG-trapezoid_1_optimized_850.png&amp;w=1920&amp;q=75\"></div><div class=\"p-6 pt-0 mt-5 px-6\"><div class=\"mb-4 h-56\"><h4 class=\"mb-2\">Ultra-Fast Internet For Your Business!</h4><p>Subscribe to Unifi Business Ultra and get a FREE TV! Special promo for Biz Fun Pack with 20 premium channels from only RM2.30/day!</p><br><p></p></div><a class=\"overflow-hidden inline-flex items-center justify-center whitespace-nowrap font-medium ring-offset-white transition-colors focus-visible:outline-none focus-visible:ring-2 focus-visible:ring-slate-950 focus-visible:ring-offset-2 disabled:pointer-events-none disabled:opacity-50 dark:ring-offset-slate-950 dark:focus-visible:ring-slate-300 text-tm-cobalt-blue-600 hover:text-tm-accent-orange-500 h-8 rounded-md px-3 gap-0 pl-0\" href=\"/ultra\">Learn More<!--$--><span class=\"mx-2 block\"><svg xmlns=\"http://www.w3.org/2000/svg\" xmlns:xlink=\"http://www.w3.org/1999/xlink\" width=\"22.4\" height=\"40\" viewBox=\"0 0 22.4 40\"><defs><filter id=\"Path_1\"><feOffset dx=\"2\" in=\"SourceAlpha\"></feOffset><feGaussianBlur stdDeviation=\"1.5\" result=\"blur\"></feGaussianBlur><feFlood flood-opacity=\"0.302\" result=\"color\"></feFlood><feComposite operator=\"out\" in=\"SourceGraphic\" in2=\"blur\"></feComposite><feComposite operator=\"in\" in=\"color\"></feComposite><feComposite operator=\"in\" in2=\"SourceGraphic\"></feComposite></filter></defs><g data-type=\"innerShadowGroup\"><path id=\"Path_1-2\" data-name=\"Path 1\" d=\"M192.2,220.14l12.166,20.027L192.2,260.14H202.6L214.6,240.167,202.6,220.14Z\" transform=\"translate(-192.199 -220.14)\" fill=\"currentColor\"></path><g transform=\"matrix(1, 0, 0, 1, 0, 0)\" filter=\"url(#Path_1)\"><path id=\"Path_1-3\" data-name=\"Path 1\" d=\"M192.2,220.14l12.166,20.027L192.2,260.14H202.6L214.6,240.167,202.6,220.14Z\" transform=\"translate(-192.2 -220.14)\" fill=\"currentColor\"></path></g></g></svg></span><!--/$--></a></div></div></div>'"
      ]
     },
     "execution_count": 7,
     "metadata": {},
     "output_type": "execute_result"
    }
   ],
   "source": [
    "elements[0].get_attribute(\"outerHTML\")"
   ]
  },
  {
   "cell_type": "code",
   "execution_count": 8,
   "metadata": {},
   "outputs": [],
   "source": [
    "driver.get(\"https://biz.unifi.com.my/promotions\")\n"
   ]
  },
  {
   "cell_type": "code",
   "execution_count": null,
   "metadata": {},
   "outputs": [],
   "source": []
  }
 ],
 "metadata": {
  "kernelspec": {
   "display_name": "Python 3",
   "language": "python",
   "name": "python3"
  },
  "language_info": {
   "codemirror_mode": {
    "name": "ipython",
    "version": 3
   },
   "file_extension": ".py",
   "mimetype": "text/x-python",
   "name": "python",
   "nbconvert_exporter": "python",
   "pygments_lexer": "ipython3",
   "version": "3.13.2"
  }
 },
 "nbformat": 4,
 "nbformat_minor": 2
}
